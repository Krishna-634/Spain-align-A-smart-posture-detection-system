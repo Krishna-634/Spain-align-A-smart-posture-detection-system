{
 "cells": [
  {
   "cell_type": "code",
   "execution_count": 1,
   "id": "68dd6a2a",
   "metadata": {},
   "outputs": [
    {
     "name": "stderr",
     "output_type": "stream",
     "text": [
      "C:\\Users\\thota\\anaconda3\\lib\\site-packages\\scipy\\__init__.py:155: UserWarning: A NumPy version >=1.18.5 and <1.25.0 is required for this version of SciPy (detected version 1.26.4\n",
      "  warnings.warn(f\"A NumPy version >={np_minversion} and <{np_maxversion}\"\n"
     ]
    },
    {
     "name": "stdout",
     "output_type": "stream",
     "text": [
      "WARNING:tensorflow:From C:\\Users\\thota\\anaconda3\\lib\\site-packages\\keras\\src\\losses.py:2976: The name tf.losses.sparse_softmax_cross_entropy is deprecated. Please use tf.compat.v1.losses.sparse_softmax_cross_entropy instead.\n",
      "\n",
      "Found 3800 images belonging to 2 classes.\n",
      "Found 400 images belonging to 2 classes.\n",
      "WARNING:tensorflow:From C:\\Users\\thota\\anaconda3\\lib\\site-packages\\keras\\src\\backend.py:873: The name tf.get_default_graph is deprecated. Please use tf.compat.v1.get_default_graph instead.\n",
      "\n",
      "WARNING:tensorflow:From C:\\Users\\thota\\anaconda3\\lib\\site-packages\\keras\\src\\layers\\pooling\\max_pooling2d.py:161: The name tf.nn.max_pool is deprecated. Please use tf.nn.max_pool2d instead.\n",
      "\n",
      "Epoch 1/5\n",
      "WARNING:tensorflow:From C:\\Users\\thota\\anaconda3\\lib\\site-packages\\keras\\src\\utils\\tf_utils.py:492: The name tf.ragged.RaggedTensorValue is deprecated. Please use tf.compat.v1.ragged.RaggedTensorValue instead.\n",
      "\n",
      "WARNING:tensorflow:From C:\\Users\\thota\\anaconda3\\lib\\site-packages\\keras\\src\\engine\\base_layer_utils.py:384: The name tf.executing_eagerly_outside_functions is deprecated. Please use tf.compat.v1.executing_eagerly_outside_functions instead.\n",
      "\n",
      "118/118 [==============================] - 364s 3s/step - loss: 0.5882 - accuracy: 0.6762 - val_loss: 0.5969 - val_accuracy: 0.5182\n",
      "Epoch 2/5\n",
      "118/118 [==============================] - 356s 3s/step - loss: 0.4595 - accuracy: 0.7826 - val_loss: 0.6992 - val_accuracy: 0.5156\n",
      "Epoch 3/5\n",
      "118/118 [==============================] - 358s 3s/step - loss: 0.3870 - accuracy: 0.8384 - val_loss: 0.5110 - val_accuracy: 0.8021\n",
      "Epoch 4/5\n",
      "118/118 [==============================] - 356s 3s/step - loss: 0.3343 - accuracy: 0.8601 - val_loss: 0.6384 - val_accuracy: 0.6693\n",
      "Epoch 5/5\n",
      "118/118 [==============================] - 356s 3s/step - loss: 0.3087 - accuracy: 0.8689 - val_loss: 0.4348 - val_accuracy: 0.8620\n"
     ]
    },
    {
     "name": "stderr",
     "output_type": "stream",
     "text": [
      "C:\\Users\\thota\\anaconda3\\lib\\site-packages\\keras\\src\\engine\\training.py:3103: UserWarning: You are saving your model as an HDF5 file via `model.save()`. This file format is considered legacy. We recommend using instead the native Keras format, e.g. `model.save('my_model.keras')`.\n",
      "  saving_api.save_model(\n"
     ]
    }
   ],
   "source": [
    "import tensorflow as tf\n",
    "from tensorflow.keras import layers, models\n",
    "from tensorflow.keras.preprocessing.image import ImageDataGenerator\n",
    "from sklearn.model_selection import train_test_split\n",
    "import os\n",
    "# Define paths to your dataset\n",
    "train_dir = r'C:\\Users\\thota\\OneDrive\\Desktop\\uvk Application\\cervical fracture\\train'\n",
    "test_dir = r'C:\\Users\\thota\\OneDrive\\Desktop\\uvk Application\\cervical fracture\\val'\n",
    "# Image parameters\n",
    "img_height, img_width = 256, 256\n",
    "batch_size = 32\n",
    "# More aggressive data augmentation for the training set\n",
    "train_datagen = ImageDataGenerator(\n",
    "rescale=1./255,\n",
    "shear_range=0.2,\n",
    "zoom_range=0.2,\n",
    "horizontal_flip=True,\n",
    "rotation_range=40, # Introduce rotation\n",
    "width_shift_range=0.2,\n",
    "height_shift_range=0.2,\n",
    "fill_mode='nearest'\n",
    ")\n",
    "# Rescale the test set (no augmentation)\n",
    "test_datagen = ImageDataGenerator(rescale=1./255)\n",
    "# Load training data\n",
    "train_generator = train_datagen.flow_from_directory(\n",
    "train_dir,\n",
    "target_size=(img_height, img_width),\n",
    "batch_size=batch_size,\n",
    "class_mode='binary' # You might need to adjust this based on your dataset structure\n",
    ")\n",
    "# Load test data\n",
    "test_generator = test_datagen.flow_from_directory(\n",
    "test_dir,\n",
    "target_size=(img_height, img_width),\n",
    "batch_size=batch_size,\n",
    "class_mode='binary' # You might need to adjust this based on your dataset structure\n",
    ")\n",
    "# Build a more complex CNN model\n",
    "model = models.Sequential()\n",
    "model.add(layers.Conv2D(64, (3, 3), activation='relu', input_shape=(img_height, img_width, 3)))\n",
    "model.add(layers.MaxPooling2D((2, 2)))\n",
    "model.add(layers.Conv2D(128, (3, 3), activation='relu'))\n",
    "model.add(layers.MaxPooling2D((2, 2)))\n",
    "model.add(layers.Conv2D(256, (3, 3), activation='relu'))\n",
    "model.add(layers.MaxPooling2D((2, 2)))\n",
    "model.add(layers.Flatten())\n",
    "model.add(layers.Dense(512, activation='relu'))\n",
    "model.add(layers.Dropout(0.5))\n",
    "model.add(layers.Dense(1, activation='sigmoid'))\n",
    "# Compile the model with a lower learning rate\n",
    "model.compile(optimizer=tf.keras.optimizers.Adam(learning_rate=0.0001),\n",
    "loss='binary_crossentropy',\n",
    "metrics=['accuracy'])\n",
    "# Train the model\n",
    "history=model.fit(\n",
    "train_generator,\n",
    "steps_per_epoch=train_generator.samples // batch_size,\n",
    "epochs=5, # Increase the number of epochs\n",
    "validation_data=test_generator,\n",
    "validation_steps=test_generator.samples // batch_size\n",
    ")\n",
    "# Save the model\n",
    "model.save('spinal_cord_model_updated.h5')"
   ]
  },
  {
   "cell_type": "code",
   "execution_count": 21,
   "id": "bbe2376e",
   "metadata": {},
   "outputs": [],
   "source": [
    "from tensorflow.keras.models import load_model\n",
    "mymodel = load_model('spinal_cord_model_updated.h5')"
   ]
  },
  {
   "cell_type": "code",
   "execution_count": 3,
   "id": "b87c6b8e",
   "metadata": {},
   "outputs": [
    {
     "name": "stdout",
     "output_type": "stream",
     "text": [
      "Collecting PyQt6\n",
      "  Downloading PyQt6-6.6.1-cp38-abi3-win_amd64.whl (6.5 MB)\n",
      "     ---------------------------------------- 6.5/6.5 MB 97.9 kB/s eta 0:00:00\n",
      "Collecting PyQt6-sip<14,>=13.6\n",
      "  Downloading PyQt6_sip-13.6.0-cp39-cp39-win_amd64.whl (73 kB)\n",
      "     -------------------------------------- 73.0/73.0 kB 502.3 kB/s eta 0:00:00\n",
      "Collecting PyQt6-Qt6>=6.6.0\n",
      "  Downloading PyQt6_Qt6-6.6.2-py3-none-win_amd64.whl (62.4 MB)\n",
      "     ---------------------------------------- 62.4/62.4 MB 1.8 MB/s eta 0:00:00\n",
      "Installing collected packages: PyQt6-Qt6, PyQt6-sip, PyQt6\n",
      "Successfully installed PyQt6-6.6.1 PyQt6-Qt6-6.6.2 PyQt6-sip-13.6.0\n",
      "Note: you may need to restart the kernel to use updated packages.\n"
     ]
    }
   ],
   "source": [
    "pip install PyQt6"
   ]
  },
  {
   "cell_type": "markdown",
   "id": "e0ba39ff",
   "metadata": {},
   "source": [
    "# App"
   ]
  },
  {
   "cell_type": "code",
   "execution_count": 2,
   "id": "cc768e14",
   "metadata": {},
   "outputs": [
    {
     "ename": "ModuleNotFoundError",
     "evalue": "No module named 'PyQt6'",
     "output_type": "error",
     "traceback": [
      "\u001b[1;31m---------------------------------------------------------------------------\u001b[0m",
      "\u001b[1;31mModuleNotFoundError\u001b[0m                       Traceback (most recent call last)",
      "\u001b[1;32m~\\AppData\\Local\\Temp\\ipykernel_24068\\1779855686.py\u001b[0m in \u001b[0;36m<module>\u001b[1;34m\u001b[0m\n\u001b[0;32m      1\u001b[0m \u001b[1;32mimport\u001b[0m \u001b[0msys\u001b[0m\u001b[1;33m\u001b[0m\u001b[1;33m\u001b[0m\u001b[0m\n\u001b[1;32m----> 2\u001b[1;33m \u001b[1;32mfrom\u001b[0m \u001b[0mPyQt6\u001b[0m\u001b[1;33m.\u001b[0m\u001b[0mQtWidgets\u001b[0m \u001b[1;32mimport\u001b[0m \u001b[0mQApplication\u001b[0m\u001b[1;33m,\u001b[0m \u001b[0mQMainWindow\u001b[0m\u001b[1;33m,\u001b[0m \u001b[0mQLabel\u001b[0m\u001b[1;33m,\u001b[0m \u001b[0mQPushButton\u001b[0m\u001b[1;33m,\u001b[0m \u001b[0mQFileDialog\u001b[0m\u001b[1;33m\u001b[0m\u001b[1;33m\u001b[0m\u001b[0m\n\u001b[0m\u001b[0;32m      3\u001b[0m \u001b[1;32mfrom\u001b[0m \u001b[0mPyQt6\u001b[0m\u001b[1;33m.\u001b[0m\u001b[0mQtGui\u001b[0m \u001b[1;32mimport\u001b[0m \u001b[0mQPixmap\u001b[0m\u001b[1;33m\u001b[0m\u001b[1;33m\u001b[0m\u001b[0m\n\u001b[0;32m      4\u001b[0m \u001b[1;32mfrom\u001b[0m \u001b[0mtensorflow\u001b[0m\u001b[1;33m.\u001b[0m\u001b[0mkeras\u001b[0m\u001b[1;33m.\u001b[0m\u001b[0mmodels\u001b[0m \u001b[1;32mimport\u001b[0m \u001b[0mload_model\u001b[0m\u001b[1;33m\u001b[0m\u001b[1;33m\u001b[0m\u001b[0m\n\u001b[0;32m      5\u001b[0m \u001b[1;32mfrom\u001b[0m \u001b[0mtensorflow\u001b[0m\u001b[1;33m.\u001b[0m\u001b[0mkeras\u001b[0m\u001b[1;33m.\u001b[0m\u001b[0mpreprocessing\u001b[0m \u001b[1;32mimport\u001b[0m \u001b[0mimage\u001b[0m\u001b[1;33m\u001b[0m\u001b[1;33m\u001b[0m\u001b[0m\n",
      "\u001b[1;31mModuleNotFoundError\u001b[0m: No module named 'PyQt6'"
     ]
    }
   ],
   "source": [
    "import sys\n",
    "from PyQt6.QtWidgets import QApplication, QMainWindow, QLabel, QPushButton, QFileDialog\n",
    "from PyQt6.QtGui import QPixmap\n",
    "from tensorflow.keras.models import load_model\n",
    "from tensorflow.keras.preprocessing import image\n",
    "import numpy as np\n",
    "class SmartPostureApp(QMainWindow):\n",
    "    def  _init_(self):\n",
    "        super()._init_()\n",
    "# Load the trained model\n",
    "        self.model_path=r\"C:\\Users\\thota\\OneDrive\\Desktop\\uvk Application\\spinal_cord_model_updated.h5\"\n",
    "        self.model = load_model(self.model_path)\n",
    "# Initialize UI\n",
    "        self.initUI()\n",
    "    def initUI(self):\n",
    "        self.setWindowTitle(\"smart posture Prediction\")\n",
    "        self.setGeometry(100, 100, 600, 400)\n",
    "# Create QLabel for displaying the selected image\n",
    "        self.image_label = QLabel(self)\n",
    "        self.image_label.setGeometry(50, 50, 200, 200)\n",
    "        # Create QLabel for displaying the prediction result\n",
    "        self.result_label = QLabel(self)\n",
    "        self.result_label.setGeometry(50, 270, 500, 30)\n",
    "# Create QPushButton for inserting an image\n",
    "        self.insert_button = QPushButton(\"Insert Image\", self)\n",
    "        self.insert_button.setGeometry(300, 50, 200, 50)\n",
    "        self.insert_button.clicked.connect(self.insert_image)\n",
    "    def preprocess_image(self, img_path, target_size=(128, 128)):\n",
    "        img = image.load_img(img_path, target_size=target_size)\n",
    "        img_array = image.img_to_array(img)\n",
    "        img_array = np.expand_dims(img_array, axis=0)\n",
    "        img_array /= 255.0 # Normalize pixel values\n",
    "        return img_array\n",
    "    def predict_posture(self, img_path):\n",
    "        img_array = self.preprocess_image(img_path)\n",
    "        prediction = self.model.predict(img_array)\n",
    "        return \"need doctor consultation\" if prediction > 0.5 else \"Not required doctor\"\n",
    "    def insert_image(self):\n",
    "        file_dialog = QFileDialog()\n",
    "        file_path, _ = file_dialog.getOpenFileName(self, \"Insert Image\", \"\", \"Image Files (*.png *.jpg*.jpeg)\")\n",
    "        if file_path:\n",
    "            pixmap = QPixmap(file_path)\n",
    "            pixmap = pixmap.scaled(200, 200)\n",
    "            self.image_label.setPixmap(pixmap)\n",
    "            result = self.predict(file_path)\n",
    "            self.result_label.setText(f\"The X-Ray is predicted to be: {result}\")\n",
    "if __name__ == \"__main__\":\n",
    "    app = QApplication(sys.argv)\n",
    "    mainWin = SmartPostureApp()\n",
    "    mainWin.show()\n",
    "    sys.exit(app.exec())"
   ]
  },
  {
   "cell_type": "code",
   "execution_count": null,
   "id": "a453be7a",
   "metadata": {},
   "outputs": [],
   "source": []
  }
 ],
 "metadata": {
  "kernelspec": {
   "display_name": "Python 3 (ipykernel)",
   "language": "python",
   "name": "python3"
  },
  "language_info": {
   "codemirror_mode": {
    "name": "ipython",
    "version": 3
   },
   "file_extension": ".py",
   "mimetype": "text/x-python",
   "name": "python",
   "nbconvert_exporter": "python",
   "pygments_lexer": "ipython3",
   "version": "3.9.13"
  }
 },
 "nbformat": 4,
 "nbformat_minor": 5
}
